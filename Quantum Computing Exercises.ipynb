{
 "cells": [
  {
   "cell_type": "code",
   "execution_count": 2,
   "metadata": {},
   "outputs": [],
   "source": [
    "import numpy as np\n",
    "from IPython.display import display, Math\n",
    "def bmatrix(a): # Formatting np.matrix -> LaTeX matrix from https://stackoverflow.com/a/17131750\n",
    "    \"\"\"Returns a LaTeX bmatrix\n",
    "\n",
    "    :a: numpy array\n",
    "    :returns: LaTeX bmatrix as a string\n",
    "    \"\"\"\n",
    "    if len(a.shape) > 2:\n",
    "        raise ValueError('bmatrix can at most display two dimensions')\n",
    "    lines = str(a).replace('[', '').replace(']', '').splitlines()\n",
    "    rv = [r'\\begin{bmatrix}']\n",
    "    rv += ['  ' + ' & '.join(l.split()) + r'\\\\' for l in lines]\n",
    "    rv +=  [r'\\end{bmatrix}']\n",
    "    return '\\n'.join(rv)\n",
    "def display_matrix(M): # Displays a LaTeX markdown in the notebook\n",
    "    display(Math(bmatrix(M)))"
   ]
  },
  {
   "cell_type": "markdown",
   "metadata": {},
   "source": [
    "$$\\newcommand{\\ket}[1]{\\left|{#1}\\right\\rangle}$$\n",
    "$$\\newcommand{\\bra}[1]{\\left\\langle{#1}\\right|}$$"
   ]
  },
  {
   "cell_type": "markdown",
   "metadata": {},
   "source": [
    "## Picturing Quantum Processes (Coecke & Kissinger)"
   ]
  },
  {
   "cell_type": "code",
   "execution_count": 3,
   "metadata": {},
   "outputs": [
    {
     "data": {
      "text/plain": [
       "matrix([[0, 1]])"
      ]
     },
     "execution_count": 3,
     "metadata": {},
     "output_type": "execute_result"
    }
   ],
   "source": [
    "x = np.matrix([0, 1])\n",
    "y = np.matrix([0, 1])\n",
    "x"
   ]
  },
  {
   "cell_type": "markdown",
   "metadata": {},
   "source": [
    "## QC for CS (Yanofsky & Mannucci)"
   ]
  },
  {
   "cell_type": "markdown",
   "metadata": {},
   "source": [
    "### Chapter 2"
   ]
  },
  {
   "cell_type": "markdown",
   "metadata": {},
   "source": [
    "#### Exercise 2.7.1\n",
    "Calculate the tensor product\n",
    "$~\n",
    "\\begin{bmatrix}\n",
    "    3 \\\\\n",
    "    4 \\\\\n",
    "    7\n",
    "\\end{bmatrix}\n",
    "\\otimes\n",
    "\\begin{bmatrix}\n",
    "    -1 \\\\\n",
    "    2     \n",
    "\\end{bmatrix} \n",
    "$:\n",
    "\n",
    "$\n",
    "\\begin{bmatrix}\n",
    "    3 \\\\\n",
    "    4 \\\\\n",
    "    7\n",
    "\\end{bmatrix}\n",
    "\\otimes\n",
    "\\begin{bmatrix}\n",
    "    -1 \\\\\n",
    "    2     \n",
    "\\end{bmatrix} \n",
    "=\n",
    "\\begin{bmatrix}\n",
    "    -3 \\\\\n",
    "    6 \\\\\n",
    "    -4 \\\\\n",
    "    8 \\\\\n",
    "    -7 \\\\\n",
    "    14\n",
    "\\end{bmatrix}\n",
    "$.\n",
    "\n",
    "#### Exercise 2.7.2\n",
    "$\\begin{bmatrix}\n",
    "    5 & 6 & 3 & 2 & 0 & 1\n",
    "\\end{bmatrix}$\n",
    "is not tensor-product separable. To see this decompose as\n",
    "$\\begin{bmatrix}\n",
    "    x & y & z\n",
    "\\end{bmatrix}\n",
    "\\otimes\n",
    "\\begin{bmatrix}\n",
    "    a & b\n",
    "\\end{bmatrix}\n",
    "$ and notice $za=0$ and $zb=1$. $a \\neq 0$ since $xa$ and $ya$ are not zero. But $z \\neq 0$ either since $zb=1$.\n",
    "\n",
    "#### Exercise 2.7.3-9\n",
    "TBD"
   ]
  },
  {
   "cell_type": "markdown",
   "metadata": {},
   "source": [
    "#### Programming Drill 2.7.1\n",
    "Write a function that accepts two matrices and constructs their tensor product. "
   ]
  },
  {
   "cell_type": "code",
   "execution_count": 73,
   "metadata": {},
   "outputs": [],
   "source": [
    "# Assume N, M are numpy matrices in index form M[row, col].\n",
    "def tnprod(N, M):\n",
    "    tensor_shape = np.multiply(N.shape, M.shape)\n",
    "    T = np.zeros(tensor_shape, dtype=N.dtype) # *the dtype ensures the data-type of cells, e.g. 'complex,' is the same for the tensor prod. matrix\n",
    "    for (j,k), n in np.ndenumerate(N):\n",
    "        for (x,y), m in np.ndenumerate(M):\n",
    "            T[j * M.shape[0] + x, k * M.shape[1] + y] = n * m\n",
    "    return T"
   ]
  },
  {
   "cell_type": "code",
   "execution_count": 78,
   "metadata": {
    "scrolled": true
   },
   "outputs": [
    {
     "data": {
      "text/latex": [
       "$\\displaystyle \\begin{bmatrix}\n",
       "  2 & 1 & 40 & 20\\\\\n",
       "  1 & 0 & 20 & 0\\\\\n",
       "  2 & 1 & 2 & 1\\\\\n",
       "  1 & 0 & 1 & 0\\\\\n",
       "\\end{bmatrix}$"
      ],
      "text/plain": [
       "<IPython.core.display.Math object>"
      ]
     },
     "metadata": {},
     "output_type": "display_data"
    }
   ],
   "source": [
    "display_matrix(\n",
    "    tnprod(np.matrix([[1,20], [1, 1]]), np.matrix([[2,1], [1, 0]])))"
   ]
  },
  {
   "cell_type": "markdown",
   "metadata": {},
   "source": [
    "### Chapter 3"
   ]
  },
  {
   "cell_type": "markdown",
   "metadata": {},
   "source": [
    "#### Exercise 3.1.1\n",
    "Using the dynamics given in Equation (3.4), determine what the state of the system would be if you start with the state $[5, 5, 0, 2, 0, 15]^T$:\n",
    "\n",
    "Given $M=\n",
    "\\begin{bmatrix}\n",
    "0 & 0 & 0 & 0 & 0 & 0\\\\\n",
    "0 & 0 & 0 & 0 & 0 & 0\\\\\n",
    "0 & 1 & 0 & 0 & 0 & 1\\\\\n",
    "0 & 0 & 0 & 1 & 0 & 0\\\\\n",
    "0 & 0 & 1 & 0 & 0 & 0\\\\\n",
    "1 & 0 & 0 & 0 & 1 & 0\\\\\n",
    "\\end{bmatrix}$,\n",
    "\n",
    "$M [5, 5, 0, 2, 0, 15]^T = [0, 0, 20, 2, 0, 5]^T$."
   ]
  },
  {
   "cell_type": "markdown",
   "metadata": {},
   "source": [
    "#### Exercise 3.1.2\n",
    "For the matrix M given in Equation (3.4), calculate $M^2$, $M^3$, and $M^6$. If all the marbles start at vertex 2, where will all the marbles end up after 6 time steps?\n",
    "\n",
    "$M^2=\n",
    "\\begin{bmatrix}\n",
    "0 & 0 & 0 & 0 & 0 & 0\\\\\n",
    "0 & 0 & 0 & 0 & 0 & 0\\\\\n",
    "1 & 0 & 0 & 0 & 1 & 0\\\\\n",
    "0 & 0 & 0 & 1 & 0 & 0\\\\\n",
    "0 & 1 & 0 & 0 & 0 & 1\\\\\n",
    "0 & 0 & 1 & 0 & 0 & 0\\\\\n",
    "\\end{bmatrix},\n",
    "~~M^3=\n",
    "\\begin{bmatrix}\n",
    "0 & 0 & 0 & 0 & 0 & 0\\\\\n",
    "0 & 0 & 0 & 0 & 0 & 0\\\\\n",
    "0 & 0 & 1 & 0 & 0 & 0\\\\\n",
    "0 & 0 & 0 & 1 & 0 & 0\\\\\n",
    "1 & 0 & 0 & 0 & 1 & 0\\\\\n",
    "0 & 1 & 0 & 0 & 0 & 1\\\\\n",
    "\\end{bmatrix},\n",
    "~~M^6(=M^3)=\n",
    "\\begin{bmatrix}\n",
    "0 & 0 & 0 & 0 & 0 & 0\\\\\n",
    "0 & 0 & 0 & 0 & 0 & 0\\\\\n",
    "0 & 0 & 1 & 0 & 0 & 0\\\\\n",
    "0 & 0 & 0 & 1 & 0 & 0\\\\\n",
    "1 & 0 & 0 & 0 & 1 & 0\\\\\n",
    "0 & 1 & 0 & 0 & 0 & 1\\\\\n",
    "\\end{bmatrix}$\n",
    "\n",
    "If all marbles start at index 2, by $M^6$, they will end up at 2, since:\n",
    "$~~\n",
    "\\begin{bmatrix}\n",
    "0 & 0 & 0 & 0 & 0 & 0\\\\\n",
    "0 & 0 & 0 & 0 & 0 & 0\\\\\n",
    "0 & 0 & 1 & 0 & 0 & 0\\\\\n",
    "0 & 0 & 0 & 1 & 0 & 0\\\\\n",
    "1 & 0 & 0 & 0 & 1 & 0\\\\\n",
    "0 & 1 & 0 & 0 & 0 & 1\\\\\n",
    "\\end{bmatrix}\n",
    "\\begin{bmatrix}\n",
    "0 \\\\\n",
    "0 \\\\\n",
    "1 \\\\\n",
    "0 \\\\\n",
    "0 \\\\\n",
    "0 \\\\\n",
    "\\end{bmatrix}\n",
    "=\n",
    "\\begin{bmatrix}\n",
    "0 \\\\\n",
    "0 \\\\\n",
    "1 \\\\\n",
    "0 \\\\\n",
    "0 \\\\\n",
    "0 \\\\\n",
    "\\end{bmatrix}$."
   ]
  },
  {
   "cell_type": "markdown",
   "metadata": {},
   "source": [
    "#### Exercise 3.1.3\n",
    "What would happen if we relaxed the requirement that exactly one edge leaves each vertex, i.e., what would happen if we permitted any graph?\n",
    "\n",
    "Marbles/data would be \"cloned\" if there were 2 or more edges leaving each vertex in the adjacency graph. It is easy to see that graphs exist which would multiply the amount of marbles after a set number of time steps, even disallowing \"duplicate edges\". Consider \n",
    "\n",
    "$N=\\begin{bmatrix}\n",
    "0 & 0 & 0 & 1 \\\\\n",
    "1 & 0 & 0 & 0 \\\\\n",
    "1 & 0 & 0 & 0 \\\\\n",
    "0 & 1 & 1 & 0 \\\\\n",
    "\\end{bmatrix}$, \n",
    "\n",
    "then\n",
    "\n",
    "$N^2=\\begin{bmatrix}\n",
    "0 & 1 & 1 & 0 \\\\\n",
    "0 & 0 & 0 & 1 \\\\\n",
    "0 & 0 & 0 & 1 \\\\\n",
    "2 & 0 & 0 & 0 \\\\\n",
    "\\end{bmatrix}, \n",
    "~~N^3=\\begin{bmatrix}\n",
    "2 & 0 & 0 & 0 \\\\\n",
    "0 & 1 & 1 & 0 \\\\\n",
    "0 & 1 & 1 & 0 \\\\\n",
    "0 & 0 & 0 & 2 \\\\\n",
    "\\end{bmatrix}, \n",
    "~~N^4(=2N)=\\begin{bmatrix}\n",
    "0 & 0 & 0 & 2 \\\\\n",
    "2 & 0 & 0 & 0 \\\\\n",
    "2 & 0 & 0 & 0 \\\\\n",
    "0 & 2 & 2 & 0 \\\\\n",
    "\\end{bmatrix}$. \n",
    "\n",
    "In general, $2^jN = N^{3j+1}$."
   ]
  },
  {
   "cell_type": "code",
   "execution_count": 16,
   "metadata": {},
   "outputs": [
    {
     "data": {
      "text/plain": [
       "matrix([[ 0,  0,  0, 64],\n",
       "        [64,  0,  0,  0],\n",
       "        [64,  0,  0,  0],\n",
       "        [ 0, 64, 64,  0]])"
      ]
     },
     "execution_count": 16,
     "metadata": {},
     "output_type": "execute_result"
    }
   ],
   "source": [
    "a = np.matrix('0 0 0 1; 1 0 0 0; 1 0 0 0; 0 1 1 0')\n",
    "np.linalg.matrix_power(a, 19)"
   ]
  },
  {
   "cell_type": "markdown",
   "metadata": {},
   "source": [
    "#### Exercise 3.1.4\n",
    "What would happen if we permitted not only 0’s and 1’s but also −1 in the adjacency matrix? Give an interpretation of this scenario in terms of marbles.\n",
    "\n",
    "TBD"
   ]
  },
  {
   "cell_type": "markdown",
   "metadata": {},
   "source": [
    "#### Exercise 3.1.5\n",
    "Consider the following graph representing city streets. Single-headed arrows ($\\rightarrow$) correspond to one-way streets and double-headed arrows ($\\leftrightarrow$) correspond to two-way streets. (Graph on pg. 79). Imagine that it takes one time click to traverse an arrow. You may assume that everyone must move at every time click. If every corner starts with exactly one person, where will everyone be after: \n",
    " - One time click? \n",
    " - Two time clicks?\n",
    " - Four time clicks?\n",
    " \n",
    "This problem can be solved by either tracing it with one's eyes, or constructing a matrix for the general case. We will construct a matrix:\n",
    "\n",
    "$N=\\begin{bmatrix}\n",
    "0 & 1 & 0 & 0 & 0 & 0 & 0 & 0 & 0 \\\\\n",
    "1 & 0 & 0 & 0 & 0 & 0 & 0 & 0 & 0 \\\\\n",
    "0 & 0 & 0 & 0 & 0 & 0 & 0 & 0 & 0 \\\\\n",
    "0 & 0 & 0 & 1 & 0 & 0 & 0 & 0 & 0 \\\\\n",
    "0 & 0 & 0 & 0 & 0 & 0 & 0 & 0 & 0 \\\\\n",
    "0 & 0 & 1 & 0 & 0 & 0 & 0 & 0 & 0 \\\\\n",
    "0 & 0 & 0 & 0 & 0 & 0 & 0 & 0 & 0 \\\\\n",
    "0 & 0 & 0 & 0 & 1 & 0 & 1 & 0 & 0 \\\\\n",
    "0 & 0 & 0 & 0 & 0 & 1 & 0 & 1 & 1 \\\\\n",
    "\\end{bmatrix}$,\n",
    "\n",
    "Multiplying this by a vector of nine 1's produces where each \"person\" is after each timestep. The people at 0 and 1 keep trading places; the person at 3 stays in the same place; and everyone else ends up at 8 after 2 or more timesteps."
   ]
  },
  {
   "cell_type": "markdown",
   "metadata": {},
   "source": [
    "#### Programming Drill 3.1.1\n",
    "Write a program that performs our little marble experiment. The program should allow the user to enter a Boolean matrix that describes the ways that marbles move. Make sure that the matrix follows our requirement. The user should also be permitted to enter a starting state of how many marbles are on each vertex. Then the user enters how many time clicks she wants to proceed. The computer should then calculate and output the state of the system after those time clicks. (We will make changes to this program later in the chapter.)\n",
    "TBD"
   ]
  },
  {
   "cell_type": "markdown",
   "metadata": {},
   "source": [
    "#### Exercise 3.2.1\n",
    "Let $M$ be as in Equation (3.14) and let $X=[\\frac{1}{2},0,\\frac{1}{2}]^T$. Show that the entries of $Y=MX$ sum to 1.\n",
    "\n",
    "$M=\\begin{bmatrix}\n",
    "0 & \\frac{1}{6} & \\frac{5}{6} \\\\\n",
    "\\frac{1}{3} & \\frac{1}{2} & \\frac{1}{6}  \\\\\n",
    "\\frac{2}{3} & \\frac{1}{3} & 0  \\\\\n",
    "\\end{bmatrix}$.\n",
    "\n",
    "$Y=MX=\\begin{bmatrix}\n",
    "0 & \\frac{1}{6} & \\frac{5}{6} \\\\\n",
    "\\frac{1}{3} & \\frac{1}{2} & \\frac{1}{6}  \\\\\n",
    "\\frac{2}{3} & \\frac{1}{3} & 0  \\\\\n",
    "\\end{bmatrix}\n",
    "\\begin{bmatrix}\n",
    "\\frac{1}{2} \\\\\n",
    "0 \\\\\n",
    "\\frac{1}{2} \\\\\n",
    "\\end{bmatrix}\n",
    "=\n",
    "\\begin{bmatrix}\n",
    "\\frac{5}{12} \\\\\n",
    "\\frac{1}{4} \\\\\n",
    "\\frac{1}{3} \\\\\n",
    "\\end{bmatrix}\n",
    "$.\n",
    "\n",
    "$\\frac{5}{12} + \\frac{1}{4} + \\frac{1}{3} = 1$."
   ]
  },
  {
   "cell_type": "markdown",
   "metadata": {},
   "source": [
    "#### Exercise 3.2.2\n",
    "Let $M$ be any $n$-by-$n$ doubly stochastic matrix. Let $X$ be an $n$-by-1 column vector. Let the result of $MX = Y$.\n",
    " - (a) If the sum of the entries of $X$ is 1, prove that the sum of the entries of $Y$ is 1.\n",
    " - (b) More generally, prove that if the sum of the entries of $X$ is $z$, then the sum of the entries of $Y$ is also $z$, i.e., $M$ preserves the sum of the entries of a column vector multiplied at the right of $M$.\n",
    " \n",
    "(a) Pick any row $m_i$ of $M$. We have by definition of a doubly stochastic matrix that the sum of row $i$ entries $\\sum_{j=1}^n m_{i,j} = 1$. We also have by definition that $\\sum_{j=1}^n x_j = 1$ for all rows in $X$. Summing the entries of $Y$ is then:\n",
    "\n",
    "$$\\sum_{i=1} y_{i} = \\sum_{i=1}^n \\sum_{j=1}^n m_{i,j} x_j$$\n",
    "\n",
    "Pulling out the second sum (summing over column-first) and remembering that $\\sum_{i=1}^n m_{i,j} = 1$ by definition:\n",
    "\n",
    "$$\\sum_{i=1} y_{i} = \\sum_{j=1}^n x_j \\big( \\sum_{i=1}^n m_{i,j} \\big) =  \\sum_{j=1}^n x_j (1) = (1) (1) = 1.$$\n",
    "\n",
    "(b) Following the same logic, we can see that if $\\sum_{j=1}^n x_j = z$ then\n",
    "\n",
    "$$\\sum_{i=1} y_{i} = \\sum_{j=1}^n x_j (1) = z.$$"
   ]
  },
  {
   "cell_type": "markdown",
   "metadata": {},
   "source": [
    "#### Exercise 3.2.3\n",
    "Omitted for similarity to 3.2.2. \n",
    "\n",
    "#### Exercise 3.2.4\n",
    "$M \\star N = \\begin{bmatrix}\n",
    "\\frac{1}{2} & \\frac{1}{2} \\\\\n",
    "\\frac{1}{2} & \\frac{1}{2} \\\\\n",
    "\\end{bmatrix} = N$.\n",
    "\n",
    "#### Exercise 3.2.5\n",
    "Prove that the product of a doubly stochastic matrix with another doubly stochastic matrix is also a doubly stochastic matrix.\n",
    "\n",
    "The product $C$ of two doubly stochastic matrices $A,B$ by entry is:\n",
    "\n",
    "$$c_{ij} = \\sum_{k=1}^{n} a_{ik} b_{kj}$$\n",
    "\n",
    "To be doubly stochastic itself, $C$ must satisfy (for fixed $j$ and $i$):\n",
    "\n",
    "$$\\sum_{i=1}^{n} c_{ij} = 1,~~\\sum_{j=1}^{n} c_{ij} = 1$$\n",
    "\n",
    "We see that\n",
    "$$\\sum_{i=1}^{n} c_{ij} = \\sum_{i=1}^{n} \\sum_{k=1}^{n} a_{ik} b_{kj}$$\n",
    "\n",
    "Swapping the order of sums, and using the doubly stochastic properties of $A$ and $B$, we have:\n",
    "$$\\sum_{i=1}^{n} c_{ij} = \\sum_{k=1}^{n} b_{kj} \\big( \\sum_{i=1}^{n} a_{ik} \\big) = \\sum_{k=1}^{n} b_{kj} (1) = (1) (1) = 1.$$\n",
    "\n",
    "Similar logic proves $\\sum_{j=1}^{n} c_{ij} = 1$."
   ]
  },
  {
   "cell_type": "markdown",
   "metadata": {},
   "source": [
    "#### Exercise 3.2.6\n",
    "Consider the following hypothetical situation at a hypothetical college. Thirty percent of all math majors become computer science majors after one year. Another 60% become physics majors after one year. After a year, 70% of the physics majors become math majors and 10% of the physics majors become computer science majors. In contrast to the other departments, computer science students are usually very happy: only 20% of them become math majors and 20% become physics majors after a year.\n",
    "- (a) Draw a graph that describes the situation.\n",
    "- (b) Give the corresponding adjacency matrix. Notice that it is a doubly stochastic matrix.\n",
    "- (c) If a student is majoring in one of these three areas, indicate her probable major after 2, 4, and 8 years.\n",
    "\n",
    "TBD"
   ]
  },
  {
   "cell_type": "markdown",
   "metadata": {},
   "source": [
    "#### Exercise 3.3.1\n",
    "TBD\n",
    "#### Exercise 3.3.2\n",
    "TBD\n",
    "#### Exercise 3.3.3\n",
    "TBD\n",
    "\n",
    "..."
   ]
  },
  {
   "cell_type": "markdown",
   "metadata": {},
   "source": [
    "### Chapter 4"
   ]
  },
  {
   "cell_type": "markdown",
   "metadata": {},
   "source": [
    "#### Exercise 4.1.1\n",
    "Let us assume that the particle is confined to $\\{x_0, x_1, ... , x_5\\}$ and the\n",
    "current state vector is\n",
    "\n",
    "$$ \\ket{\\psi} = [2 − i, 2i, 1 − i, 1, −2i, 2]^T $$\n",
    "\n",
    "What is the likelihood of finding the particle at position $x_3$?\n",
    "\n",
    "The norm is:\n",
    "\n",
    "$$ |\\ket{\\psi}| = \\sqrt{|2 − i|^2 + |2i|^2 + |1 − i|^2 + 1 + |−2i|^2 + 4} = 2 \\sqrt{5} $$\n",
    "\n",
    "The likelihood of finding the particle at position $x_3$ is therefore:\n",
    "\n",
    "$$ \\frac{|1|^2}{(2 \\sqrt{5})^2} = \\frac{1}{20}.$$"
   ]
  },
  {
   "cell_type": "code",
   "execution_count": null,
   "metadata": {},
   "outputs": [],
   "source": []
  }
 ],
 "metadata": {
  "kernelspec": {
   "display_name": "Python 3",
   "language": "python",
   "name": "python3"
  },
  "language_info": {
   "codemirror_mode": {
    "name": "ipython",
    "version": 3
   },
   "file_extension": ".py",
   "mimetype": "text/x-python",
   "name": "python",
   "nbconvert_exporter": "python",
   "pygments_lexer": "ipython3",
   "version": "3.7.3"
  }
 },
 "nbformat": 4,
 "nbformat_minor": 2
}
